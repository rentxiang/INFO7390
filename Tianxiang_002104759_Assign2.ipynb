{
 "cells": [
  {
   "cell_type": "markdown",
   "id": "c2908554-9f73-4d9c-86c6-16bfd4e9de6f",
   "metadata": {
    "tags": []
   },
   "source": [
    "# Assignment2_Tianxiang_Ren\n",
    "\n",
    "Implement a single neuron neural network, aka, the logistic regression unit. Use Log Loss Function, write code to carry out stochastic gradient descent (SGD) for optimization, and then write a different activation function i.e., replace the sigmoid non-linearity by ReLu or tan. Ideally, implement as a set of functions*.\n",
    "\n",
    "Run it on any classification problem using a dataset from the internet (say the titanic dataset or housing dataset). Provide accuracy and F1 score of the results. Please write code in Python in a Jupyter notebook.\n",
    "\n"
   ]
  },
  {
   "cell_type": "code",
   "execution_count": 3,
   "id": "ab0e4638-3510-4fc5-a1bb-683bb8c23f93",
   "metadata": {
    "tags": []
   },
   "outputs": [],
   "source": [
    "import pandas as pd\n",
    "import math\n",
    "import numpy as np\n",
    "import seaborn as sns\n",
    "from scipy import stats\n",
    "import matplotlib.pyplot as plt\n",
    "from collections import defaultdict"
   ]
  },
  {
   "cell_type": "code",
   "execution_count": 4,
   "id": "b8582440-8c4b-4bf4-85da-91b8adf3c3ec",
   "metadata": {},
   "outputs": [],
   "source": [
    "url = 'https://github.com/rentxiang/INFO7390/blob/master/gender_classification_v7.csv?raw=true'\n",
    "df = pd.read_csv(url)"
   ]
  },
  {
   "cell_type": "markdown",
   "id": "14995c20-0fb7-4884-b4a8-630cbcc73718",
   "metadata": {},
   "source": [
    "Dataset could be found on Kaggles: https://www.kaggle.com/datasets/elakiricoder/gender-classification-dataset"
   ]
  },
  {
   "cell_type": "markdown",
   "id": "4eee18ff-dfdc-4a05-9e4d-070bd095e02a",
   "metadata": {
    "tags": []
   },
   "source": [
    "Get Dataset Info, check null and trying to see if we need clean"
   ]
  },
  {
   "cell_type": "code",
   "execution_count": 5,
   "id": "05317c51-60ca-4e8d-9bb4-59513b642587",
   "metadata": {},
   "outputs": [
    {
     "data": {
      "text/plain": [
       "<bound method DataFrame.info of       long_hair  forehead_width_cm  forehead_height_cm  nose_wide  nose_long  \\\n",
       "0             1               11.8                 6.1          1          0   \n",
       "1             0               14.0                 5.4          0          0   \n",
       "2             0               11.8                 6.3          1          1   \n",
       "3             0               14.4                 6.1          0          1   \n",
       "4             1               13.5                 5.9          0          0   \n",
       "...         ...                ...                 ...        ...        ...   \n",
       "4996          1               13.6                 5.1          0          0   \n",
       "4997          1               11.9                 5.4          0          0   \n",
       "4998          1               12.9                 5.7          0          0   \n",
       "4999          1               13.2                 6.2          0          0   \n",
       "5000          1               15.4                 5.4          1          1   \n",
       "\n",
       "      lips_thin  distance_nose_to_lip_long  gender  \n",
       "0             1                          1    Male  \n",
       "1             1                          0  Female  \n",
       "2             1                          1    Male  \n",
       "3             1                          1    Male  \n",
       "4             0                          0  Female  \n",
       "...         ...                        ...     ...  \n",
       "4996          0                          0  Female  \n",
       "4997          0                          0  Female  \n",
       "4998          0                          0  Female  \n",
       "4999          0                          0  Female  \n",
       "5000          1                          1    Male  \n",
       "\n",
       "[5001 rows x 8 columns]>"
      ]
     },
     "execution_count": 5,
     "metadata": {},
     "output_type": "execute_result"
    }
   ],
   "source": [
    "df.info"
   ]
  },
  {
   "cell_type": "code",
   "execution_count": 6,
   "id": "1d10b62a-74c7-4e5c-bb49-dadf7d407053",
   "metadata": {},
   "outputs": [
    {
     "data": {
      "text/html": [
       "<div>\n",
       "<style scoped>\n",
       "    .dataframe tbody tr th:only-of-type {\n",
       "        vertical-align: middle;\n",
       "    }\n",
       "\n",
       "    .dataframe tbody tr th {\n",
       "        vertical-align: top;\n",
       "    }\n",
       "\n",
       "    .dataframe thead th {\n",
       "        text-align: right;\n",
       "    }\n",
       "</style>\n",
       "<table border=\"1\" class=\"dataframe\">\n",
       "  <thead>\n",
       "    <tr style=\"text-align: right;\">\n",
       "      <th></th>\n",
       "      <th>long_hair</th>\n",
       "      <th>forehead_width_cm</th>\n",
       "      <th>forehead_height_cm</th>\n",
       "      <th>nose_wide</th>\n",
       "      <th>nose_long</th>\n",
       "      <th>lips_thin</th>\n",
       "      <th>distance_nose_to_lip_long</th>\n",
       "      <th>gender</th>\n",
       "    </tr>\n",
       "  </thead>\n",
       "  <tbody>\n",
       "    <tr>\n",
       "      <th>0</th>\n",
       "      <td>1</td>\n",
       "      <td>11.8</td>\n",
       "      <td>6.1</td>\n",
       "      <td>1</td>\n",
       "      <td>0</td>\n",
       "      <td>1</td>\n",
       "      <td>1</td>\n",
       "      <td>Male</td>\n",
       "    </tr>\n",
       "    <tr>\n",
       "      <th>1</th>\n",
       "      <td>0</td>\n",
       "      <td>14.0</td>\n",
       "      <td>5.4</td>\n",
       "      <td>0</td>\n",
       "      <td>0</td>\n",
       "      <td>1</td>\n",
       "      <td>0</td>\n",
       "      <td>Female</td>\n",
       "    </tr>\n",
       "    <tr>\n",
       "      <th>2</th>\n",
       "      <td>0</td>\n",
       "      <td>11.8</td>\n",
       "      <td>6.3</td>\n",
       "      <td>1</td>\n",
       "      <td>1</td>\n",
       "      <td>1</td>\n",
       "      <td>1</td>\n",
       "      <td>Male</td>\n",
       "    </tr>\n",
       "    <tr>\n",
       "      <th>3</th>\n",
       "      <td>0</td>\n",
       "      <td>14.4</td>\n",
       "      <td>6.1</td>\n",
       "      <td>0</td>\n",
       "      <td>1</td>\n",
       "      <td>1</td>\n",
       "      <td>1</td>\n",
       "      <td>Male</td>\n",
       "    </tr>\n",
       "    <tr>\n",
       "      <th>4</th>\n",
       "      <td>1</td>\n",
       "      <td>13.5</td>\n",
       "      <td>5.9</td>\n",
       "      <td>0</td>\n",
       "      <td>0</td>\n",
       "      <td>0</td>\n",
       "      <td>0</td>\n",
       "      <td>Female</td>\n",
       "    </tr>\n",
       "  </tbody>\n",
       "</table>\n",
       "</div>"
      ],
      "text/plain": [
       "   long_hair  forehead_width_cm  forehead_height_cm  nose_wide  nose_long  \\\n",
       "0          1               11.8                 6.1          1          0   \n",
       "1          0               14.0                 5.4          0          0   \n",
       "2          0               11.8                 6.3          1          1   \n",
       "3          0               14.4                 6.1          0          1   \n",
       "4          1               13.5                 5.9          0          0   \n",
       "\n",
       "   lips_thin  distance_nose_to_lip_long  gender  \n",
       "0          1                          1    Male  \n",
       "1          1                          0  Female  \n",
       "2          1                          1    Male  \n",
       "3          1                          1    Male  \n",
       "4          0                          0  Female  "
      ]
     },
     "execution_count": 6,
     "metadata": {},
     "output_type": "execute_result"
    }
   ],
   "source": [
    "df.head()"
   ]
  },
  {
   "cell_type": "code",
   "execution_count": 7,
   "id": "3124703c-e80d-4d1a-8c15-373c389c8596",
   "metadata": {},
   "outputs": [
    {
     "data": {
      "text/plain": [
       "long_hair                    0\n",
       "forehead_width_cm            0\n",
       "forehead_height_cm           0\n",
       "nose_wide                    0\n",
       "nose_long                    0\n",
       "lips_thin                    0\n",
       "distance_nose_to_lip_long    0\n",
       "gender                       0\n",
       "dtype: int64"
      ]
     },
     "execution_count": 7,
     "metadata": {},
     "output_type": "execute_result"
    }
   ],
   "source": [
    "df.isnull().sum()"
   ]
  },
  {
   "cell_type": "code",
   "execution_count": 8,
   "id": "b1136235-c119-4343-8f6c-29a863e14152",
   "metadata": {},
   "outputs": [],
   "source": [
    "#Encoding the labels to categorical values\n",
    "df.gender = df.gender.astype('category').cat.codes"
   ]
  },
  {
   "cell_type": "code",
   "execution_count": 9,
   "id": "398f3d8f-5b00-440a-8ad6-86ed5398922c",
   "metadata": {},
   "outputs": [
    {
     "data": {
      "image/png": "[encoded data removed]",
      "text/plain": [
       "<Figure size 432x288 with 1 Axes>"
      ]
     },
     "metadata": {
      "needs_background": "light"
     },
     "output_type": "display_data"
    },
    {
     "data": {
      "image/png": "[encoded data removed]",
      "text/plain": [
       "<Figure size 432x288 with 1 Axes>"
      ]
     },
     "metadata": {
      "needs_background": "light"
     },
     "output_type": "display_data"
    },
    {
     "data": {
      "image/png": "[encoded data removed]",
      "text/plain": [
       "<Figure size 432x288 with 1 Axes>"
      ]
     },
     "metadata": {
      "needs_background": "light"
     },
     "output_type": "display_data"
    },
    {
     "data": {
      "image/png": "[encoded data removed]",
      "text/plain": [
       "<Figure size 432x288 with 1 Axes>"
      ]
     },
     "metadata": {
      "needs_background": "light"
     },
     "output_type": "display_data"
    },
    {
     "data": {
      "image/png": "[encoded data removed]",
      "text/plain": [
       "<Figure size 432x288 with 1 Axes>"
      ]
     },
     "metadata": {
      "needs_background": "light"
     },
     "output_type": "display_data"
    },
    {
     "data": {
      "image/png": "[encoded data removed]",
      "text/plain": [
       "<Figure size 432x288 with 1 Axes>"
      ]
     },
     "metadata": {
      "needs_background": "light"
     },
     "output_type": "display_data"
    },
    {
     "data": {
      "image/png": "[encoded data removed]",
      "text/plain": [
       "<Figure size 432x288 with 1 Axes>"
      ]
     },
     "metadata": {
      "needs_background": "light"
     },
     "output_type": "display_data"
    },
    {
     "data": {
      "image/png": "[encoded data removed]",
      "text/plain": [
       "<Figure size 432x288 with 1 Axes>"
      ]
     },
     "metadata": {
      "needs_background": "light"
     },
     "output_type": "display_data"
    }
   ],
   "source": [
    "for i, col in enumerate(df.columns):\n",
    "    plt.figure(i)\n",
    "    sns.histplot(df[col])"
   ]
  },
  {
   "cell_type": "code",
   "execution_count": 10,
   "id": "3a42e535-9663-4b92-b3c0-291e27048171",
   "metadata": {},
   "outputs": [],
   "source": [
    "#Creating a train-test split\n",
    "size = int(0.8 * len(df))\n",
    "\n",
    "train_set = df[:size]\n",
    "test_set = df[size:]"
   ]
  },
  {
   "cell_type": "code",
   "execution_count": 11,
   "id": "d0d69cb5-e436-4478-9d58-6be6d16d3638",
   "metadata": {},
   "outputs": [
    {
     "name": "stderr",
     "output_type": "stream",
     "text": [
      "/var/folders/c2/1mhlns5x72l3rrdzkx8jtvzr0000gn/T/ipykernel_47304/958989565.py:3: FutureWarning: In a future version of pandas all arguments of DataFrame.drop except for the argument 'labels' will be keyword-only.\n",
      "  X_train = train_set.drop('gender', 1)\n",
      "/var/folders/c2/1mhlns5x72l3rrdzkx8jtvzr0000gn/T/ipykernel_47304/958989565.py:6: FutureWarning: In a future version of pandas all arguments of DataFrame.drop except for the argument 'labels' will be keyword-only.\n",
      "  X_test = test_set.drop('gender', 1)\n"
     ]
    }
   ],
   "source": [
    "#Separating labels and predictor variables\n",
    "y_train = train_set[['gender']]\n",
    "X_train = train_set.drop('gender', 1)\n",
    "\n",
    "y_test = test_set[['gender']]\n",
    "X_test = test_set.drop('gender', 1)"
   ]
  },
  {
   "cell_type": "code",
   "execution_count": 12,
   "id": "de70a1dc-f155-4779-8df0-fa1a10da6225",
   "metadata": {},
   "outputs": [],
   "source": [
    "#Converting dataframe into numpy array\n",
    "y_train = np.array(y_train)\n",
    "X_train = X_train.to_numpy()\n",
    "\n",
    "y_test = np.array(y_test)\n",
    "X_test = X_test.to_numpy()"
   ]
  },
  {
   "cell_type": "code",
   "execution_count": 13,
   "id": "3bcf08b1-5e54-4916-8bfc-00033be5625b",
   "metadata": {},
   "outputs": [],
   "source": [
    "#Defining the initial weights and bias\n",
    "weight = np.zeros(X_train.shape[1])\n",
    "bias = 0"
   ]
  },
  {
   "cell_type": "code",
   "execution_count": 14,
   "id": "df597a24-cb7b-4563-8531-5ad6999ca52a",
   "metadata": {},
   "outputs": [],
   "source": [
    "#Defining the sigmoid function \n",
    "def Sigmoid(x):\n",
    "    return 1 / (1 + math.exp(-x))"
   ]
  },
  {
   "cell_type": "code",
   "execution_count": 15,
   "id": "a4243412-15cd-4180-ae22-1570ff2f24ad",
   "metadata": {},
   "outputs": [
    {
     "name": "stdout",
     "output_type": "stream",
     "text": [
      "The loss is:\n",
      "[396.08410318]\n"
     ]
    }
   ],
   "source": [
    "loss = 0\n",
    "y_pred = defaultdict(list)\n",
    "for i in range(X_train.shape[0]):\n",
    "    y_pred = Sigmoid(np.dot(X_train[i],weight) + bias) \n",
    "    y = y_train[i]\n",
    "    loss += np.multiply(np.log(y_pred), y) + np.multiply(np.log(1-y_pred), 1-y)\n",
    "loss = - loss/X_train.shape[1]\n",
    "print(\"The loss is:\")\n",
    "print(loss)"
   ]
  },
  {
   "cell_type": "code",
   "execution_count": 16,
   "id": "5829e5b0-a208-4662-977e-440f803c0042",
   "metadata": {},
   "outputs": [],
   "source": [
    "# Defining the accuracy metrics \n",
    "def accuracy_metrics(actual, predicted):\n",
    "    correct = 0\n",
    "    for i in range(len(actual)):\n",
    "        if (actual[i]>0.5) == (predicted[i]>0.5):\n",
    "            correct += 1\n",
    "    return correct / float(len(actual)) * 100.0"
   ]
  },
  {
   "cell_type": "code",
   "execution_count": 17,
   "id": "0addf64c-64e3-41a9-b917-67d0a1f6bc5d",
   "metadata": {},
   "outputs": [],
   "source": [
    "# Defining the training hyperparameters\n",
    "max_epoch = 100\n",
    "learning_rate = 0.01\n",
    "Training_data = {\"trainLoss\":[],\"testLoss\":[],\"trainAccuracy\":[],\"testAccuracy\":[]}"
   ]
  },
  {
   "cell_type": "code",
   "execution_count": 18,
   "id": "418a5cfa-2c7e-4d39-993d-6c3c41cbb69a",
   "metadata": {},
   "outputs": [],
   "source": [
    "def fit_train():\n",
    "    y_pred = []\n",
    "    loss = 0\n",
    "    for i in range(X_train.shape[0]):\n",
    "        y_pred_temp = Sigmoid(np.dot(X_train[i],weight) + bias)        \n",
    "        loss += np.multiply(np.log(y_pred_temp), y_train[i])+ np.multiply(np.log(1-y_pred_temp), 1-y_train[i]) \n",
    "        y_pred.append(y_pred_temp)\n",
    "    loss = -loss/X_train.shape[1]\n",
    "    \n",
    "    return y_pred, loss"
   ]
  },
  {
   "cell_type": "code",
   "execution_count": 19,
   "id": "7c71b08f-44af-4e59-bbc3-fbb71b95cec2",
   "metadata": {},
   "outputs": [],
   "source": [
    "def fit_test():\n",
    "    y_pred_test = []\n",
    "    loss_test = 0\n",
    "    for i in range(X_test.shape[0]):\n",
    "        y_pred_temp = Sigmoid(np.dot(X_test[i],weight)+bias)        \n",
    "        loss_test += -(np.multiply(np.log(y_pred_temp), y_test[i])+ np.multiply(np.log(1-y_pred_temp), 1-y_test[i]))\n",
    "        y_pred_test.append(y_pred_temp)    \n",
    "        \n",
    "    return y_pred_test, loss_test"
   ]
  },
  {
   "cell_type": "code",
   "execution_count": 20,
   "id": "f01bf0cd-b76e-41f9-b8d2-a18209b5c134",
   "metadata": {},
   "outputs": [],
   "source": [
    "def update_bias(bias):\n",
    "    grad_bias = 0\n",
    "    grad_w = np.zeros(len(weight))\n",
    "    for i in range(X_train.shape[0]):        \n",
    "        grad_bias += (y_pred[i] - y_train[i])*(y_pred[i])*(1-y_pred[i]) #dJ/db\n",
    "        for j in range(len(weight)):\n",
    "            grad_w[j] += (y_pred[i] - y_train[i])*(y_pred[i])*(1-y_pred[i])*(X_train[i][j])\n",
    "\n",
    "    bias = bias - grad_bias*learning_rate/X_train.shape[0]   \n",
    "    \n",
    "    return grad_w, bias"
   ]
  },
  {
   "cell_type": "code",
   "execution_count": 21,
   "id": "5c25b3fb-457e-4066-9ba3-334d4db65109",
   "metadata": {},
   "outputs": [],
   "source": [
    "def update_weight(): \n",
    "    for j in range(len(weight)):\n",
    "        weight[j] = weight[j] - grad_w[j]*learning_rate/X_train.shape[0]\n",
    "    \n",
    "    return weight"
   ]
  },
  {
   "cell_type": "code",
   "execution_count": 22,
   "id": "a38b7c74-bcfd-4dbb-b4a8-eca0159e1eae",
   "metadata": {},
   "outputs": [
    {
     "name": "stdout",
     "output_type": "stream",
     "text": [
      "Training loss:396.084103\n",
      "Test loss:0.346574\n",
      "Training accuracy: 49.875000\n",
      "Validation accuracy: 50.549451\n",
      "Training loss:393.944447\n",
      "Test loss:0.344840\n",
      "Training accuracy: 50.125000\n",
      "Validation accuracy: 49.450549\n",
      "Training loss:392.095567\n",
      "Test loss:0.343244\n",
      "Training accuracy: 50.125000\n",
      "Validation accuracy: 49.450549\n",
      "Training loss:390.277239\n",
      "Test loss:0.341648\n",
      "Training accuracy: 50.125000\n",
      "Validation accuracy: 49.450549\n",
      "Training loss:388.474409\n",
      "Test loss:0.340059\n",
      "Training accuracy: 50.125000\n",
      "Validation accuracy: 49.450549\n",
      "Training loss:386.686049\n",
      "Test loss:0.338482\n",
      "Training accuracy: 50.125000\n",
      "Validation accuracy: 49.450549\n",
      "Training loss:384.911997\n",
      "Test loss:0.336916\n",
      "Training accuracy: 50.125000\n",
      "Validation accuracy: 49.450549\n",
      "Training loss:383.152165\n",
      "Test loss:0.335364\n",
      "Training accuracy: 73.650000\n",
      "Validation accuracy: 74.225774\n",
      "Training loss:381.406482\n",
      "Test loss:0.333824\n",
      "Training accuracy: 79.200000\n",
      "Validation accuracy: 80.419580\n",
      "Training loss:379.674876\n",
      "Test loss:0.332296\n",
      "Training accuracy: 79.200000\n",
      "Validation accuracy: 80.419580\n"
     ]
    }
   ],
   "source": [
    "for epoch in range(max_epoch):\n",
    "\n",
    "    y_pred, loss = fit_train()\n",
    "    y_pred_test, loss_test = fit_test()\n",
    "       \n",
    "    loss_test = loss_test/(2*X_test.shape[0])\n",
    "    trainAcc = accuracy_metrics(y_train,y_pred)\n",
    "    testAcc = accuracy_metrics(y_test,y_pred_test)\n",
    "    \n",
    "    Training_data[\"trainLoss\"].append(loss)\n",
    "    Training_data[\"testLoss\"].append(loss_test)\n",
    "    Training_data[\"trainAccuracy\"].append(trainAcc)\n",
    "    Training_data[\"testAccuracy\"].append(testAcc)\n",
    "    \n",
    "    \n",
    "    if epoch%10==0:\n",
    "        print(\"Training loss:%f\" %(loss))\n",
    "        print(\"Test loss:%f\" %(loss_test))\n",
    "        print(\"Training accuracy: %f\" %(trainAcc))\n",
    "        print(\"Validation accuracy: %f\" %(testAcc))\n",
    "    y_pred = np.array(y_pred)\n",
    "    \n",
    "    grad_w, bias = update_bias(bias)\n",
    "    \n",
    "    weight = update_weight()"
   ]
  },
  {
   "cell_type": "code",
   "execution_count": 23,
   "id": "aa48e73b-d32d-4bdf-b4ae-b5e63666dddc",
   "metadata": {},
   "outputs": [],
   "source": [
    "# Define the confusion_matrix\n",
    "\n",
    "def confusion_matrix(actual, predicted, labels):\n",
    "    num_labels = len(labels)\n",
    "    matrix = [[0 for _ in range(num_labels)] for _ in range(num_labels)]\n",
    "    for i in range(len(actual)):\n",
    "        true_label = actual[i]\n",
    "        predicted_label = predicted[i]\n",
    "        true_index = labels.index(true_label)\n",
    "        predicted_index = labels.index(predicted_label)\n",
    "        matrix[true_index][predicted_index] += 1\n",
    "    return matrix"
   ]
  },
  {
   "cell_type": "code",
   "execution_count": 24,
   "id": "165e6810-95a1-4b2c-aee6-8bfd770986de",
   "metadata": {},
   "outputs": [
    {
     "data": {
      "image/png": "[encoded data removed]",
      "text/plain": [
       "<Figure size 432x432 with 1 Axes>"
      ]
     },
     "metadata": {
      "needs_background": "light"
     },
     "output_type": "display_data"
    }
   ],
   "source": [
    "# Compute the confusion matrix\n",
    "\n",
    "y_pred_cm = np.rint(y_pred)\n",
    "\n",
    "cm = confusion_matrix(y_train, y_pred_cm, labels=[0, 1])\n",
    "\n",
    "plt.figure(figsize=(6,6))\n",
    "sns.heatmap(cm, annot=True, fmt='g', vmin=0, cmap='Greens', cbar=False)\n",
    "plt.xticks(ticks=[0.5,1.5], labels = [\"Female\", \"Male\"])\n",
    "plt.yticks(ticks=[0.5,1.5], labels = [\"Female\", \"Male\"])\n",
    "plt.xlabel(\"Predicted\")\n",
    "plt.ylabel(\"Actual\")\n",
    "plt.title(\"Confusion Matrix\")\n",
    "plt.show()"
   ]
  },
  {
   "cell_type": "code",
   "execution_count": 25,
   "id": "84229c0c-ff00-4ae9-b992-48d82f3a1199",
   "metadata": {},
   "outputs": [
    {
     "name": "stdout",
     "output_type": "stream",
     "text": [
      "Training accuracy: 79.200000\n",
      "Validation accuracy: 80.419580\n"
     ]
    }
   ],
   "source": [
    "for epoch in range(max_epoch):\n",
    "  if epoch%100 == 0:  \n",
    "    print(\"Training accuracy: %f\" %(trainAcc))\n",
    "    print(\"Validation accuracy: %f\" %(testAcc))"
   ]
  },
  {
   "cell_type": "code",
   "execution_count": 26,
   "id": "0f976bad-1245-4748-92f0-eca5ea81c503",
   "metadata": {},
   "outputs": [
    {
     "name": "stdout",
     "output_type": "stream",
     "text": [
      "F1 score: 0.9991416309012876\n"
     ]
    }
   ],
   "source": [
    "tp = cm [0][0]\n",
    "fp = cm [1][0]\n",
    "tn = cm [1][1]\n",
    "fn = cm [0][1]\n",
    "\n",
    "precision = tp / (tp + fp)\n",
    "recall = tp / (tp + fp)\n",
    "\n",
    "f1 = 2 * (precision * recall) / (precision + recall)\n",
    "\n",
    "print(\"F1 score: {}\".format(f1,2))"
   ]
  },
  {
   "cell_type": "code",
   "execution_count": 27,
   "id": "1066ddcf-1f3e-4e1e-b6bd-3bea19c38999",
   "metadata": {},
   "outputs": [
    {
     "data": {
      "image/png": "[encoded data removed]",
      "text/plain": [
       "<Figure size 432x288 with 1 Axes>"
      ]
     },
     "metadata": {
      "needs_background": "light"
     },
     "output_type": "display_data"
    }
   ],
   "source": [
    "plt.plot(Training_data['trainAccuracy'],label='Training Accuracy',color='blue')\n",
    "plt.plot(Training_data['testAccuracy'],label='Test Accuracy',color='red')\n",
    "plt.legend(bbox_to_anchor=(1.05, 1), loc=2, borderaxespad=0.)\n",
    "plt.show()"
   ]
  },
  {
   "cell_type": "code",
   "execution_count": 28,
   "id": "2f540e15-2848-40d6-8fbc-eeb5b3e2b564",
   "metadata": {},
   "outputs": [
    {
     "data": {
      "image/png": "[encoded data removed]",
      "text/plain": [
       "<Figure size 432x288 with 1 Axes>"
      ]
     },
     "metadata": {
      "needs_background": "light"
     },
     "output_type": "display_data"
    }
   ],
   "source": [
    "plt.plot(Training_data['trainLoss'],label='Training Loss',color='red')\n",
    "plt.plot(Training_data['testLoss'],label='Test Loss',color='blue')\n",
    "plt.legend(bbox_to_anchor=(1.05, 1), loc=2, borderaxespad=0.)\n",
    "plt.show()"
   ]
  },
  {
   "cell_type": "markdown",
   "id": "55331761-7cac-452a-9244-630c3d2b8014",
   "metadata": {},
   "source": [
    "Replacing the Sigmoid activation function with ReLu"
   ]
  },
  {
   "cell_type": "code",
   "execution_count": 29,
   "id": "ef39cd14-df79-4a49-992e-902064f5f90c",
   "metadata": {},
   "outputs": [],
   "source": [
    "# Replacing the Sigmoid activation function with ReLu\n",
    "# define the Relu function:\n",
    "def ReLu(x):\n",
    "    return max(0.0, x)\n",
    "loss = 0\n",
    "y_pred = defaultdict(list)\n",
    "for i in range(X_train.shape[0]):\n",
    "    y_pred = ReLu(np.dot(X_train[i],weight) + bias)\n",
    "    y = y_train[i]\n",
    "    loss += (y - y_pred)*(y - y_pred)\n",
    "loss = loss/2"
   ]
  },
  {
   "cell_type": "code",
   "execution_count": 30,
   "id": "0ff373bf-19a1-4e36-aba1-33fa0fd4bb64",
   "metadata": {},
   "outputs": [],
   "source": [
    "def fit_train_relu():\n",
    "    y_pred = []\n",
    "    loss = 0\n",
    "    for i in range(X_train.shape[0]):\n",
    "        y_pred_temp = ReLu(np.dot(X_train[i],weight) + bias)        \n",
    "        loss += (y_train[i] - y_pred_temp)*(y_train[i] - y_pred_temp) \n",
    "        y_pred.append(y_pred_temp)\n",
    "    loss = loss/(2 * X_train.shape[0])\n",
    "    \n",
    "    return y_pred, loss"
   ]
  },
  {
   "cell_type": "code",
   "execution_count": 31,
   "id": "18d8503e-6873-4294-beb4-156022966987",
   "metadata": {},
   "outputs": [],
   "source": [
    "def fit_test_relu():\n",
    "    y_pred_test = []\n",
    "    loss_test = 0\n",
    "    for i in range(X_test.shape[0]):\n",
    "        y_pred_temp = ReLu(np.dot(X_test[i],weight)+bias)        \n",
    "        loss_test += (y_test[i] - y_pred_temp)*(y_test[i] - y_pred_temp) \n",
    "        y_pred_test.append(y_pred_temp) \n",
    "    return y_pred_test, loss_test"
   ]
  },
  {
   "cell_type": "code",
   "execution_count": 32,
   "id": "09428846-a5b9-40aa-8398-d6d40f84f73e",
   "metadata": {},
   "outputs": [
    {
     "name": "stdout",
     "output_type": "stream",
     "text": [
      "Training loss:0.191798\n",
      "est loss:0.189743\n",
      "Training accuracy: 49.875000\n",
      "Validation accuracy: 50.549451\n"
     ]
    },
    {
     "name": "stderr",
     "output_type": "stream",
     "text": [
      "/var/folders/c2/1mhlns5x72l3rrdzkx8jtvzr0000gn/T/ipykernel_47304/1403227261.py:25: VisibleDeprecationWarning: Creating an ndarray from ragged nested sequences (which is a list-or-tuple of lists-or-tuples-or ndarrays with different lengths or shapes) is deprecated. If you meant to do this, you must specify 'dtype=object' when creating the ndarray.\n",
      "  y_pred = np.array(y_pred)\n"
     ]
    },
    {
     "name": "stdout",
     "output_type": "stream",
     "text": [
      "Training loss:0.087560\n",
      "est loss:0.087069\n",
      "Training accuracy: 96.425000\n",
      "Validation accuracy: 97.302697\n",
      "Training loss:0.085557\n",
      "est loss:0.085057\n",
      "Training accuracy: 96.450000\n",
      "Validation accuracy: 97.302697\n",
      "Training loss:0.083624\n",
      "est loss:0.083114\n",
      "Training accuracy: 96.425000\n",
      "Validation accuracy: 97.302697\n",
      "Training loss:0.081758\n",
      "est loss:0.081238\n",
      "Training accuracy: 96.350000\n",
      "Validation accuracy: 97.202797\n"
     ]
    }
   ],
   "source": [
    "#Training the neural network with relu activation function\n",
    "max_epoch = 50\n",
    "\n",
    "for epoch in range(max_epoch):\n",
    "\n",
    "  y_pred, loss = fit_train_relu()\n",
    "  y_pred_test, loss_test = fit_test_relu()\n",
    "        \n",
    "  loss_test = loss_test/(2*X_test.shape[0])\n",
    "  trainAcc = accuracy_metrics(y_train,y_pred)\n",
    "  testAcc = accuracy_metrics(y_test,y_pred_test)\n",
    "    \n",
    "  Training_data[\"trainLoss\"].append(loss)\n",
    "  Training_data[\"testLoss\"].append(loss_test)\n",
    "  Training_data[\"trainAccuracy\"].append(trainAcc)\n",
    "  Training_data[\"testAccuracy\"].append(testAcc)\n",
    "    \n",
    "    \n",
    "  if epoch%10==0:\n",
    "    print(\"Training loss:%f\" %(loss))\n",
    "    print(\"est loss:%f\" %(loss_test))\n",
    "    print(\"Training accuracy: %f\" %(trainAcc))\n",
    "    print(\"Validation accuracy: %f\" %(testAcc))\n",
    "        \n",
    "  y_pred = np.array(y_pred)  \n",
    "  grad_w, bias = update_bias(bias)\n",
    "  weight = update_weight()"
   ]
  },
  {
   "cell_type": "code",
   "execution_count": 33,
   "id": "2603b527-c8f4-46c1-ae3f-4a2e9b28dba8",
   "metadata": {},
   "outputs": [
    {
     "data": {
      "image/png": "[encoded data removed]",
      "text/plain": [
       "<Figure size 432x288 with 1 Axes>"
      ]
     },
     "metadata": {
      "needs_background": "light"
     },
     "output_type": "display_data"
    }
   ],
   "source": [
    "plt.plot(Training_data['trainAccuracy'],label='Training Accuracy',color='red')\n",
    "plt.plot(Training_data['testAccuracy'],label='Test Accuracy',color='blue')\n",
    "plt.legend(bbox_to_anchor=(1.05, 1), loc=2, borderaxespad=0.)\n",
    "plt.show()"
   ]
  },
  {
   "cell_type": "code",
   "execution_count": 34,
   "id": "68ebd212-0599-4676-9147-bb4aa2ac3354",
   "metadata": {},
   "outputs": [
    {
     "data": {
      "image/png": "[encoded data removed]",
      "text/plain": [
       "<Figure size 432x432 with 1 Axes>"
      ]
     },
     "metadata": {
      "needs_background": "light"
     },
     "output_type": "display_data"
    }
   ],
   "source": [
    "y_pred_cm = np.rint(y_pred)\n",
    "\n",
    "cm = confusion_matrix(y_train, y_pred_cm, labels=[0, 1])\n",
    "\n",
    "plt.figure(figsize=(6,6))\n",
    "sns.heatmap(cm, annot=True, fmt='g', vmin=0, cmap='Greens', cbar=False)\n",
    "plt.xticks(ticks=[0.5,1.5], labels = [\"Female\", \"Male\"])\n",
    "plt.yticks(ticks=[0.5,1.5], labels = [\"Female\", \"Male\"])\n",
    "plt.xlabel(\"Predicted\")\n",
    "plt.ylabel(\"Actual\")\n",
    "plt.title(\"Confusion Matrix\")\n",
    "plt.show()"
   ]
  },
  {
   "cell_type": "code",
   "execution_count": 35,
   "id": "2d232fed-55f3-446f-bc69-db6d54143d29",
   "metadata": {},
   "outputs": [
    {
     "name": "stdout",
     "output_type": "stream",
     "text": [
      "Training accuracy: 96.300000\n",
      "Validation accuracy: 97.202797\n"
     ]
    }
   ],
   "source": [
    "for epoch in range(max_epoch):\n",
    "  if epoch%50 == 0:  \n",
    "    print(\"Training accuracy: %f\" %(trainAcc))\n",
    "    print(\"Validation accuracy: %f\" %(testAcc))"
   ]
  },
  {
   "cell_type": "code",
   "execution_count": 36,
   "id": "6ed9d3c6-24d6-4275-a3e4-9aad61904928",
   "metadata": {},
   "outputs": [
    {
     "name": "stdout",
     "output_type": "stream",
     "text": [
      "F1 score: 0.96\n"
     ]
    }
   ],
   "source": [
    "tp = cm [0][0]\n",
    "fp = cm [1][0]\n",
    "tn = cm [1][1]\n",
    "fn = cm [0][1]\n",
    "\n",
    "precision = tp / (tp + fp)\n",
    "recall = tp / (tp + fn)\n",
    "\n",
    "f1 = 2 * (precision * recall) / (precision + recall)\n",
    "\n",
    "print(\"F1 score: {}\".format(round(f1,2)))"
   ]
  },
  {
   "cell_type": "markdown",
   "id": "9a71569e-a26f-4742-be0a-6d13f6d52c93",
   "metadata": {},
   "source": [
    "Adding L1 (Lasso) and L2 (Ridge) Regression to the model"
   ]
  },
  {
   "cell_type": "code",
   "execution_count": 37,
   "id": "b63c73aa-d12f-4f52-9e38-a022674d72b6",
   "metadata": {},
   "outputs": [],
   "source": [
    "weight = np.zeros(X_train.shape[1])\n",
    "bias = 0"
   ]
  },
  {
   "cell_type": "code",
   "execution_count": 38,
   "id": "bd814574-b21f-4b32-a647-4bf228a85dc0",
   "metadata": {},
   "outputs": [],
   "source": [
    "def update_bias(bias):\n",
    "    grad_bias = 0\n",
    "    l1_penality = 0.05\n",
    "    a,b = X_train.shape\n",
    "    grad_w = np.zeros(len(weight))\n",
    "    for i in range(X_train.shape[0]):        \n",
    "        grad_bias += (y_pred[i] - y_train[i])*(y_pred[i])*(1-y_pred[i]) \n",
    "        for j in range(len(weight)):\n",
    "            if grad_w[j] > 0:\n",
    "              grad_w[j] += (-(2*(X_train[i][j])*(y_train[i] - y_pred[i])) + l1_penality)/a\n",
    "            else:\n",
    "              grad_w[j] += (-(2*(X_train[i][j])*(y_train[i] - y_pred[i]) ) - l1_penality )/a\n",
    "\n",
    "    bias = bias - grad_bias*learning_rate/X_train.shape[0]   \n",
    "    \n",
    "    return grad_w, bias"
   ]
  },
  {
   "cell_type": "code",
   "execution_count": 39,
   "id": "2f7681a7-a9a6-4d24-8356-489fdfd548eb",
   "metadata": {},
   "outputs": [
    {
     "name": "stdout",
     "output_type": "stream",
     "text": [
      "Training loss:396.084103\n",
      "Test loss:0.346574\n",
      "Training accuracy: 49.875000\n",
      "Validation accuracy: 50.549451\n"
     ]
    }
   ],
   "source": [
    "max_epoch = 100\n",
    "learning_rate = 0.001\n",
    "for epoch in range(max_epoch):\n",
    "\n",
    "    y_pred, loss = fit_train()\n",
    "    y_pred_test, loss_test = fit_test()\n",
    "       \n",
    "    loss_test = loss_test/(2*X_test.shape[0])\n",
    "    trainAcc = accuracy_metrics(y_train,y_pred)\n",
    "    testAcc = accuracy_metrics(y_test,y_pred_test)\n",
    "    \n",
    "    Training_data[\"trainLoss\"].append(loss)\n",
    "    Training_data[\"testLoss\"].append(loss_test)\n",
    "    Training_data[\"trainAccuracy\"].append(trainAcc)\n",
    "    Training_data[\"testAccuracy\"].append(testAcc)\n",
    "    \n",
    "    \n",
    "    if epoch%100 == 0:\n",
    "        print(\"Training loss:%f\" %(loss))\n",
    "        print(\"Test loss:%f\" %(loss_test))\n",
    "        print(\"Training accuracy: %f\" %(trainAcc))\n",
    "        print(\"Validation accuracy: %f\" %(testAcc))\n",
    "    y_pred = np.array(y_pred)\n",
    "    \n",
    "    grad_w, bias = update_bias(bias)\n",
    "    \n",
    "    weight = update_weight()"
   ]
  },
  {
   "cell_type": "code",
   "execution_count": 40,
   "id": "ba7366ec-451e-40cc-9d43-71980868d327",
   "metadata": {},
   "outputs": [],
   "source": [
    "weight = np.zeros(X_train.shape[1])\n",
    "bias = 0"
   ]
  },
  {
   "cell_type": "code",
   "execution_count": 41,
   "id": "66b56978-839b-47e7-86af-3f2c4da4fa37",
   "metadata": {},
   "outputs": [],
   "source": [
    "def update_bias(bias):\n",
    "    grad_bias = 0\n",
    "    l2_penality = 0.001\n",
    "    a,b = X_train.shape\n",
    "    grad_w = np.zeros(len(weight))\n",
    "    for i in range(X_train.shape[0]):        \n",
    "        grad_bias += (y_pred[i] - y_train[i])*(y_pred[i])*(1-y_pred[i]) \n",
    "        for j in range(len(weight)):\n",
    "            grad_w[j] += -(2*(X_train[i][j])*(y_train[i] - y_pred[i]) + (2*l2_penality*weight[j]))/a \n",
    "\n",
    "    bias = bias - grad_bias*learning_rate/X_train.shape[0]   \n",
    "    \n",
    "    return grad_w, bias"
   ]
  },
  {
   "cell_type": "code",
   "execution_count": 42,
   "id": "b3ec6496-5bf5-4d6a-95fd-d7d538632178",
   "metadata": {},
   "outputs": [
    {
     "name": "stdout",
     "output_type": "stream",
     "text": [
      "Training loss:396.084103\n",
      "Test loss:0.346574\n",
      "Training accuracy: 49.875000\n",
      "Validation accuracy: 50.549451\n"
     ]
    }
   ],
   "source": [
    "max_epoch = 100\n",
    "\n",
    "for epoch in range(max_epoch):\n",
    "\n",
    "    y_pred, loss = fit_train()\n",
    "    y_pred_test, loss_test = fit_test()\n",
    "       \n",
    "    loss_test = loss_test/(2*X_test.shape[0])\n",
    "    trainAcc = accuracy_metrics(y_train,y_pred)\n",
    "    testAcc = accuracy_metrics(y_test,y_pred_test)\n",
    "    \n",
    "    Training_data[\"trainLoss\"].append(loss)\n",
    "    Training_data[\"testLoss\"].append(loss_test)\n",
    "    Training_data[\"trainAccuracy\"].append(trainAcc)\n",
    "    Training_data[\"testAccuracy\"].append(testAcc)\n",
    "    \n",
    "    \n",
    "    if epoch%100 == 0:\n",
    "        print(\"Training loss:%f\" %(loss))\n",
    "        print(\"Test loss:%f\" %(loss_test))\n",
    "        print(\"Training accuracy: %f\" %(trainAcc))\n",
    "        print(\"Validation accuracy: %f\" %(testAcc))\n",
    "    y_pred = np.array(y_pred)\n",
    "    \n",
    "    grad_w, bias = update_bias(bias)\n",
    "    \n",
    "    weight = update_weight()"
   ]
  },
  {
   "cell_type": "markdown",
   "id": "d45a0a0d-a70b-4ab3-a97a-6d7b03976053",
   "metadata": {
    "tags": []
   },
   "source": [
    "The logistic regression model performs well for the sigmoid activation function with an accuracy of 80.42% and \n",
    "f-1 score of 0.9. Implemented relu activation function for the model in place of sigmoid which provided positive outcome for the model evaluation."
   ]
  }
 ],
 "metadata": {
  "kernelspec": {
   "display_name": "Python 3 (ipykernel)",
   "language": "python",
   "name": "python3"
  },
  "language_info": {
   "codemirror_mode": {
    "name": "ipython",
    "version": 3
   },
   "file_extension": ".py",
   "mimetype": "text/x-python",
   "name": "python",
   "nbconvert_exporter": "python",
   "pygments_lexer": "ipython3",
   "version": "3.9.12"
  }
 },
 "nbformat": 4,
 "nbformat_minor": 5
}
